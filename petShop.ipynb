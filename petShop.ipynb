{
  "nbformat": 4,
  "nbformat_minor": 0,
  "metadata": {
    "colab": {
      "name": "petShop.ipynb",
      "provenance": [],
      "authorship_tag": "ABX9TyOxFQZ3hSFpNgo5DlHZoiks",
      "include_colab_link": true
    },
    "kernelspec": {
      "name": "python3",
      "display_name": "Python 3"
    }
  },
  "cells": [
    {
      "cell_type": "markdown",
      "metadata": {
        "id": "view-in-github",
        "colab_type": "text"
      },
      "source": [
        "<a href=\"https://colab.research.google.com/github/Ziyahh22/Google-Notebooks/blob/master/petShop.ipynb\" target=\"_parent\"><img src=\"https://colab.research.google.com/assets/colab-badge.svg\" alt=\"Open In Colab\"/></a>"
      ]
    },
    {
      "cell_type": "markdown",
      "metadata": {
        "id": "S44VSJ4VChFT"
      },
      "source": [
        "#PetShop"
      ]
    },
    {
      "cell_type": "markdown",
      "metadata": {
        "id": "M1PtB0BrCFie"
      },
      "source": [
        "I connected the pet entity to the enclosure entity because pets are kept in enclosures, and there would be 1 pet in an enclosure but 0 to 25 enclosures occupied. Also the pet transactions were connected to pets because the adoption rate of pets are logged in the pet transaction, there will only be one transaction for a pet but 0 to 25 pets can be adopted.  The pet and food entity was also connected because pets are fed food and 1 pet eats one food but there can be 1 to 25 types of food for any 1 pet. Food transactions are connected to food also, because the food purchases are recorded in the transactions, there can be 1 to 25 types of food purchased but only  transaction recorded for each food.Customers and food are connected because customers are able to purchase food because a customer most likely comes to  pet store to buy food even if they dont adopt a pet because they have other pets at home . Lastly the customers are connected to the loyalty program because they join the program, one customer can join the program 1 time and 0 to 25 customers join meaning not all has to join or there is a chance that none might join.\n"
      ]
    },
    {
      "cell_type": "markdown",
      "metadata": {
        "id": "XcMbyN2YB4Oi"
      },
      "source": [
        "![petshop](https://raw.githubusercontent.com/Ziyahh22/Practice-/master/images/Pet%20Shop-2-3.png)"
      ]
    }
  ]
}
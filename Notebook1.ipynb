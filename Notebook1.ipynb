{
  "nbformat": 4,
  "nbformat_minor": 0,
  "metadata": {
    "colab": {
      "name": "Notebook1.ipynb",
      "provenance": [],
      "toc_visible": true,
      "authorship_tag": "ABX9TyN0B3t1sy4GHX+ZR+tD7pOy",
      "include_colab_link": true
    },
    "kernelspec": {
      "name": "python3",
      "display_name": "Python 3"
    }
  },
  "cells": [
    {
      "cell_type": "markdown",
      "metadata": {
        "id": "view-in-github",
        "colab_type": "text"
      },
      "source": [
        "<a href=\"https://colab.research.google.com/github/Ziyahh22/Google-Notebooks/blob/master/Notebook1.ipynb\" target=\"_parent\"><img src=\"https://colab.research.google.com/assets/colab-badge.svg\" alt=\"Open In Colab\"/></a>"
      ]
    },
    {
      "cell_type": "code",
      "metadata": {
        "id": "HzNHg5zaR8hn",
        "colab_type": "code",
        "colab": {}
      },
      "source": [
        ""
      ],
      "execution_count": null,
      "outputs": []
    },
    {
      "cell_type": "markdown",
      "metadata": {
        "id": "T9OuvwtHSzqa",
        "colab_type": "text"
      },
      "source": [
        "#Jupyter Notebooks"
      ]
    },
    {
      "cell_type": "markdown",
      "metadata": {
        "id": "sTyLEwvjTkhK",
        "colab_type": "text"
      },
      "source": [
        "## Do You Like Using Jupyter Notebooks"
      ]
    },
    {
      "cell_type": "markdown",
      "metadata": {
        "id": "V2tmFJiBTq75",
        "colab_type": "text"
      },
      "source": [
        "I enjoy using Jupyter Notebooks, it's something new that I never tried. The system has alot of amazing features such as coding which I find very interesting."
      ]
    },
    {
      "cell_type": "markdown",
      "metadata": {
        "id": "Q5orAiVeW27k",
        "colab_type": "text"
      },
      "source": [
        "## What do you want to learn more about in Jupyter Notebooks"
      ]
    },
    {
      "cell_type": "markdown",
      "metadata": {
        "id": "TKDIxV3kXRkd",
        "colab_type": "text"
      },
      "source": [
        "I would like to advance my knowledge on the coding tool in Jupyter Notebooks. Also I would like to learn about the other features in Jupyter Notebooks to master the application."
      ]
    },
    {
      "cell_type": "markdown",
      "metadata": {
        "id": "5lVdqovpZGnE",
        "colab_type": "text"
      },
      "source": [
        "## Image (Favorite Food)"
      ]
    },
    {
      "cell_type": "markdown",
      "metadata": {
        "id": "zUJGiSKqZPox",
        "colab_type": "text"
      },
      "source": [
        "![ribs](https://raw.githubusercontent.com/Ziyahh22/Practice-/master/images/IMG_BA457105AB0E-1.jpeg)"
      ]
    }
  ]
}